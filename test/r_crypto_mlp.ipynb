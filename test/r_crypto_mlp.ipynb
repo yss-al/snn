{
 "cells": [
  {
   "cell_type": "code",
   "execution_count": 1,
   "metadata": {},
   "outputs": [],
   "source": [
    "import torch\n",
    "import torch.nn as nn\n",
    "import numpy as np\n",
    "\n",
    "\n",
    "def set_seed(seed=0):\n",
    "    seed = 42069  # set a random seed for reproducibility\n",
    "    torch.backends.cudnn.deterministic = True\n",
    "    torch.backends.cudnn.benchmark = False\n",
    "    np.random.seed(seed)\n",
    "    torch.manual_seed(seed)\n",
    "    if torch.cuda.is_available():\n",
    "        torch.cuda.manual_seed_all(seed)\n",
    "\n"
   ]
  },
  {
   "cell_type": "code",
   "execution_count": 2,
   "metadata": {},
   "outputs": [],
   "source": [
    "\n",
    "def init_weight():\n",
    "    # y0 dim: (1, 2)\n",
    "    w1 = np.array([[0.2, 0.3],\n",
    "                   [0.4, 0.2],\n",
    "                   [0.3, 0.4]], dtype='f')\n",
    "    # y1 dim: (1, 3)\n",
    "    w2 = np.array([[0.2, 0.3, 0.4],\n",
    "                   [0.4, 0.2, 0.3],\n",
    "                   [0.3, 0.4, 0.2]], dtype='f')\n",
    "    # y2 dim: (1, 3)\n",
    "    w3 = np.array([[0.2, 0.3, 0.4],\n",
    "                   [0.4, 0.2, 0.3]], dtype='f')\n",
    "    # y3 dim: (1, 2)\n",
    "    return w1, w2, w3\n",
    "\n",
    "\n",
    "class CMlp(nn.Module):\n",
    "\n",
    "    def __init__(self, r=(1., 1., 1.)):\n",
    "        super(CMlp, self).__init__()\n",
    "        w1, w2, w3 = init_weight()\n",
    "        self.noise = [r[0], r[1] / r[0], r[2] / r[1]]\n",
    "\n",
    "        self.fc1 = nn.Linear(2, 3, False)\n",
    "        self.fc1.weight.data = torch.from_numpy(w1)\n",
    "        self.fc1.weight.data.mul_(self.noise[0])\n",
    "\n",
    "        self.fc2 = nn.Linear(3, 3, False)\n",
    "        self.fc2.weight.data = torch.from_numpy(w2)\n",
    "        self.fc2.weight.data.mul_(self.noise[1])\n",
    "\n",
    "        self.fc3 = nn.Linear(3, 2, False)\n",
    "        self.fc3.weight.data = torch.from_numpy(w3)\n",
    "        self.fc3.weight.data.mul_(self.noise[2])\n",
    "        self.y2 = None\n",
    "        self.y3 = None\n",
    "        self.alpha = None\n",
    "    def forward(self, x):\n",
    "        y1 = self.fc1(x)\n",
    "        self.y2 = self.fc2(y1)\n",
    "        self.alpha = self.y2.sum()\n",
    "        self.y3 = self.fc3(self.y2)\n",
    "        self.y3.retain_grad()\n",
    "        return self.y3"
   ]
  },
  {
   "cell_type": "code",
   "execution_count": 3,
   "metadata": {
    "pycharm": {
     "name": "#%%\n"
    }
   },
   "outputs": [
    {
     "name": "stdout",
     "output_type": "stream",
     "text": [
      "----------- plaintext weight ---------------\n",
      "tensor([[0.2000, 0.3000],\n",
      "        [0.4000, 0.2000],\n",
      "        [0.3000, 0.4000]], device='cuda:0')\n",
      "tensor([[0.2000, 0.3000, 0.4000],\n",
      "        [0.4000, 0.2000, 0.3000],\n",
      "        [0.3000, 0.4000, 0.2000]], device='cuda:0')\n",
      "tensor([[0.2000, 0.3000, 0.4000],\n",
      "        [0.4000, 0.2000, 0.3000]], device='cuda:0')\n",
      "y:  tensor([[0.1206, 0.1221]], device='cuda:0', grad_fn=<MmBackward>)\n",
      "----------- plaintext grad -----------------\n",
      "tensor([[-0.0401, -0.0602],\n",
      "        [-0.0424, -0.0636],\n",
      "        [-0.0401, -0.0602]], device='cuda:0')\n",
      "tensor([[-0.0295, -0.0318, -0.0409],\n",
      "        [-0.0246, -0.0265, -0.0341],\n",
      "        [-0.0345, -0.0371, -0.0477]], device='cuda:0')\n",
      "tensor([[-0.0531, -0.0508, -0.0497],\n",
      "        [-0.0529, -0.0506, -0.0495]], device='cuda:0')\n",
      "----------- ciphertext weight ---------------\n",
      "tensor([[0.0400, 0.0600],\n",
      "        [0.0800, 0.0400],\n",
      "        [0.0600, 0.0800]], device='cuda:0')\n",
      "tensor([[0.4000, 0.6000, 0.8000],\n",
      "        [0.8000, 0.4000, 0.6000],\n",
      "        [0.6000, 0.8000, 0.4000]], device='cuda:0')\n",
      "tensor([[0.4000, 0.6000, 0.8000],\n",
      "        [0.8000, 0.4000, 0.6000]], device='cuda:0')\n",
      "----------- ciphertext grad ---------------\n",
      "tensor([[-0.1709, -0.2563],\n",
      "        [-0.1805, -0.2708],\n",
      "        [-0.1708, -0.2562]], device='cuda:0')\n",
      "tensor([[-0.0126, -0.0135, -0.0174],\n",
      "        [-0.0105, -0.0113, -0.0145],\n",
      "        [-0.0147, -0.0158, -0.0203]], device='cuda:0')\n",
      "tensor([[-0.0226, -0.0216, -0.0211],\n",
      "        [-0.0225, -0.0216, -0.0211]], device='cuda:0')\n",
      "Get yc:  tensor([[0.0965, 0.0977]], device='cuda:0', grad_fn=<MmBackward>)\n",
      "Get yc from y:  tensor([[0.0965, 0.0977]], device='cuda:0', grad_fn=<MulBackward0>)\n",
      "Ly derivative\n",
      "tensor([[-0.3794, -0.3779]], device='cuda:0', grad_fn=<SubBackward0>)\n",
      "tensor([[-0.3794, -0.3779]], device='cuda:0')\n",
      "Lhaty derivative\n",
      "tensor([[-0.4035, -0.4023]], device='cuda:0', grad_fn=<SubBackward0>)\n",
      "tensor([[-0.4035, -0.4023]], device='cuda:0')\n"
     ]
    }
   ],
   "source": [
    "# setup gpu or cpu\n",
    "device = 'cuda' if torch.cuda.is_available() else 'cpu'\n",
    "\n",
    "r = (0.2, 0.4, 0.8)\n",
    "x = torch.tensor([[0.2, 0.3]], device=device)\n",
    "y_hat = torch.tensor([[0.5, 0.5]], device=device)\n",
    "\n",
    "net = CMlp().to(device)\n",
    "print('----------- plaintext weight ---------------')\n",
    "for p in net.parameters():\n",
    "    print(p.data)\n",
    "y = net(x)\n",
    "print('y: ', y)\n",
    "criterion = nn.MSELoss()\n",
    "loss = criterion(y, y_hat)\n",
    "loss.backward(retain_graph=True)\n",
    "print('----------- plaintext grad -----------------')\n",
    "for p in net.parameters():\n",
    "    print(p.grad)\n",
    "w_gradlist = [p.grad for p in net.parameters()]\n",
    "print('----------- ciphertext weight ---------------')\n",
    "net_c = CMlp(r).to(device)\n",
    "for p in net_c.parameters():\n",
    "    print(p.data)\n",
    "y_c = net_c(x)\n",
    "c_loss = criterion(y_c, y_hat)\n",
    "c_loss.backward(retain_graph=True)\n",
    "print('----------- ciphertext grad ---------------')\n",
    "for p in net_c.parameters():\n",
    "    print(p.grad)\n",
    "c_w_gradlist = [p.grad.detach().clone() for p in net_c.parameters()]\n",
    "\n",
    "print('Get yc: ', y_c)\n",
    "print('Get yc from y: ', y  * 0.8)\n",
    "print('Ly derivative')\n",
    "print(y - y_hat)\n",
    "print(y.grad)\n",
    "y_grad = y.grad.clone()\n",
    "print('Lhaty derivative')\n",
    "print(y_c - y_hat)\n",
    "print(y_c.grad)\n",
    "y_c_grad = y_c.grad"
   ]
  },
  {
   "cell_type": "markdown",
   "metadata": {
    "pycharm": {
     "name": "#%% md\n"
    }
   },
   "source": [
    "$ \\frac{\\partial \\widehat{L}}{\\partial \\widehat{W}^{(l)}} = ( \\frac{\\partial L}{\\partial y^{(L)}} + (r^L - 1) \\cdot y^{L}) \\frac{\\partial \\widehat{y}^{(L)}}{\\partial \\widehat{W}^{(l)}} $"
   ]
  },
  {
   "cell_type": "code",
   "execution_count": 4,
   "metadata": {},
   "outputs": [],
   "source": [
    "optim = torch.optim.Optimizer(net.parameters(), {})\n",
    "optim_c = torch.optim.Optimizer(net_c.parameters(), {})\n",
    "optim_c.zero_grad()"
   ]
  },
  {
   "cell_type": "code",
   "execution_count": 5,
   "metadata": {
    "pycharm": {
     "name": "#%%\n"
    }
   },
   "outputs": [
    {
     "name": "stdout",
     "output_type": "stream",
     "text": [
      "tensor([[-0.0241, -0.0244]], device='cuda:0', grad_fn=<MulBackward0>)\n"
     ]
    }
   ],
   "source": [
    "n3 =  torch.tensor([[.8, .8]], device=device)\n",
    "r_L = (n3 - 1) * y\n",
    "print(r_L)\n",
    "t = y_grad + r_L\n",
    "y_c.backward(t, retain_graph=True)"
   ]
  },
  {
   "cell_type": "markdown",
   "metadata": {
    "pycharm": {
     "name": "#%% md\n"
    }
   },
   "source": [
    "### get grad $\\frac{\\partial \\widehat{L}}{\\partial \\widehat{W}^{(l)}}$"
   ]
  },
  {
   "cell_type": "code",
   "execution_count": 6,
   "metadata": {
    "pycharm": {
     "name": "#%%\n"
    }
   },
   "outputs": [
    {
     "name": "stdout",
     "output_type": "stream",
     "text": [
      "tensor([[-0.1709, -0.2563],\n",
      "        [-0.1805, -0.2708],\n",
      "        [-0.1708, -0.2562]], device='cuda:0')\n",
      "tensor([[-0.0126, -0.0135, -0.0174],\n",
      "        [-0.0105, -0.0113, -0.0145],\n",
      "        [-0.0147, -0.0158, -0.0203]], device='cuda:0')\n",
      "tensor([[-0.0226, -0.0216, -0.0211],\n",
      "        [-0.0225, -0.0216, -0.0211]], device='cuda:0')\n"
     ]
    }
   ],
   "source": [
    "for p in net_c.parameters():\n",
    "    print(p.grad)"
   ]
  },
  {
   "cell_type": "code",
   "execution_count": 7,
   "metadata": {
    "pycharm": {
     "name": "#%%\n"
    }
   },
   "outputs": [
    {
     "name": "stdout",
     "output_type": "stream",
     "text": [
      "tensor([[-0.1709, -0.2563],\n",
      "        [-0.1805, -0.2708],\n",
      "        [-0.1708, -0.2562]], device='cuda:0')\n",
      "tensor([[-0.0126, -0.0135, -0.0174],\n",
      "        [-0.0105, -0.0113, -0.0145],\n",
      "        [-0.0147, -0.0158, -0.0203]], device='cuda:0')\n",
      "tensor([[-0.0226, -0.0216, -0.0211],\n",
      "        [-0.0225, -0.0216, -0.0211]], device='cuda:0')\n"
     ]
    }
   ],
   "source": [
    "print(*c_w_gradlist, sep='\\n')"
   ]
  },
  {
   "cell_type": "markdown",
   "metadata": {},
   "source": [
    "$ \\frac{\\partial \\widehat{L}}{\\partial \\widehat{W}^{(l)}} = \\frac{r^L}{R_l} \\frac{\\partial L}{\\partial y^{(L)}} \\frac{\\partial \\widehat{y}^{(L)}}{\\partial \\widehat{W}^{(l)}}+ (r^L - 1) \\cdot y^{L} \\frac{\\partial \\widehat{y}^{(L)}}{\\partial \\widehat{W}^{(l)}} $"
   ]
  },
  {
   "cell_type": "code",
   "execution_count": 8,
   "metadata": {
    "pycharm": {
     "name": "#%%\n"
    }
   },
   "outputs": [
    {
     "name": "stdout",
     "output_type": "stream",
     "text": [
      "[0.2, 2.0, 2.0]\n"
     ]
    }
   ],
   "source": [
    "print(net_c.noise) # noise for w_ij in each layer\n",
    "\n",
    "# left of addition\n",
    "l_tensor_list =[]\n",
    "for x, n in zip(w_gradlist, net_c.noise):\n",
    "    l_tensor_list.append(x.mul(1/n).mul(0.8))\n",
    "optim_c.zero_grad()\n",
    "y_c.backward(r_L, retain_graph=True)\n",
    "\n",
    "# right of addition\n",
    "r_tensor_list = [p.grad.detach().clone() for p in net_c.parameters()]"
   ]
  },
  {
   "cell_type": "markdown",
   "metadata": {
    "pycharm": {
     "name": "#%% md\n"
    }
   },
   "source": [
    "### restore ciphertext grad in left of the equation"
   ]
  },
  {
   "cell_type": "code",
   "execution_count": 9,
   "metadata": {
    "pycharm": {
     "name": "#%%\n"
    }
   },
   "outputs": [
    {
     "name": "stdout",
     "output_type": "stream",
     "text": [
      "tensor([[-0.1709, -0.2563],\n",
      "        [-0.1805, -0.2708],\n",
      "        [-0.1708, -0.2562]], device='cuda:0')\n",
      "tensor([[-0.0126, -0.0135, -0.0174],\n",
      "        [-0.0105, -0.0113, -0.0145],\n",
      "        [-0.0147, -0.0158, -0.0203]], device='cuda:0')\n",
      "tensor([[-0.0226, -0.0216, -0.0211],\n",
      "        [-0.0225, -0.0216, -0.0211]], device='cuda:0')\n"
     ]
    }
   ],
   "source": [
    "for l, r in zip(l_tensor_list, r_tensor_list):\n",
    "    print(l + r)"
   ]
  }
 ],
 "metadata": {
  "kernelspec": {
   "display_name": "Python 3",
   "language": "python",
   "name": "python3"
  },
  "language_info": {
   "codemirror_mode": {
    "name": "ipython",
    "version": 3
   },
   "file_extension": ".py",
   "mimetype": "text/x-python",
   "name": "python",
   "nbconvert_exporter": "python",
   "pygments_lexer": "ipython3",
   "version": "3.8.10"
  }
 },
 "nbformat": 4,
 "nbformat_minor": 1
}