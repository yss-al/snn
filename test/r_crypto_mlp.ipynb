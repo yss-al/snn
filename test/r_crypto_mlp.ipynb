{
 "cells": [
  {
   "cell_type": "code",
   "execution_count": 1,
   "metadata": {},
   "outputs": [],
   "source": [
    "import torch\n",
    "import torch.nn as nn\n",
    "import numpy as np\n",
    "from numpy.random import default_rng\n",
    "\n",
    "\n",
    "def set_seed(seed=0):\n",
    "    seed = 42069  # set a random seed for reproducibility\n",
    "    torch.backends.cudnn.deterministic = True\n",
    "    torch.backends.cudnn.benchmark = False\n",
    "    torch.manual_seed(seed)\n",
    "    if torch.cuda.is_available():\n",
    "        torch.cuda.manual_seed_all(seed)"
   ]
  },
  {
   "cell_type": "code",
   "execution_count": 2,
   "metadata": {},
   "outputs": [],
   "source": [
    "def init_weight(random=False):\n",
    "    if random:\n",
    "        rng = default_rng(0)\n",
    "         # y0 dim: (1, 2)\n",
    "        w1 = rng.standard_normal((3, 2), dtype='f')\n",
    "        # y1 dim: (1, 3)\n",
    "        w2 = rng.standard_normal((3, 3), dtype='f')\n",
    "        # y2 dim: (1, 3)\n",
    "        w3 = rng.standard_normal((2, 3), dtype='f')\n",
    "    else:\n",
    "        # y0 dim: (1, 2)\n",
    "        w1 = np.array([[0.2, 0.3],\n",
    "                       [0.4, 0.2],\n",
    "                       [0.3, 0.4]], dtype='f')\n",
    "        # y1 dim: (1, 3)\n",
    "        w2 = np.array([[0.2, 0.3, 0.4],\n",
    "                       [0.4, 0.2, 0.3],\n",
    "                       [0.3, 0.4, 0.2]], dtype='f')\n",
    "        # y2 dim: (1, 3)\n",
    "        w3 = np.array([[0.2, 0.3, 0.4],\n",
    "                       [0.4, 0.2, 0.3]], dtype='f')\n",
    "        # y3 dim: (1, 2)\n",
    "    return w1, w2, w3\n",
    "\n",
    "\n",
    "class CMlp(nn.Module):\n",
    "\n",
    "    def __init__(self, r=(1., 1., 1.), weight_random=False):\n",
    "        super(CMlp, self).__init__()\n",
    "        w1, w2, w3 = init_weight(weight_random)\n",
    "        self.noise = [r[0], r[1] / r[0], r[2] / r[1]]\n",
    "        if weight_random:\n",
    "            self.fc1 = nn.Linear(2, 3, False)\n",
    "            self.fc1.weight.data = torch.from_numpy(w1)\n",
    "            self.fc1.weight.data.mul_(self.noise[0])\n",
    "\n",
    "            self.fc2 = nn.Linear(3, 3, False)\n",
    "            self.fc2.weight.data = torch.from_numpy(w2)\n",
    "            self.fc2.weight.data.mul_(self.noise[1])\n",
    "\n",
    "            self.fc3 = nn.Linear(3, 2, False)\n",
    "            self.fc3.weight.data = torch.from_numpy(w3)\n",
    "            self.fc3.weight.data.mul_(self.noise[2])\n",
    "        else:\n",
    "            self.fc1 = nn.Linear(2, 3, False)\n",
    "            self.fc1.weight.data = torch.from_numpy(w1)\n",
    "            self.fc1.weight.data.mul_(self.noise[0])\n",
    "\n",
    "            self.fc2 = nn.Linear(3, 3, False)\n",
    "            self.fc2.weight.data = torch.from_numpy(w2)\n",
    "            self.fc2.weight.data.mul_(self.noise[1])\n",
    "\n",
    "            self.fc3 = nn.Linear(3, 2, False)\n",
    "            self.fc3.weight.data = torch.from_numpy(w3)\n",
    "            self.fc3.weight.data.mul_(self.noise[2])\n",
    "        self.y2 = None\n",
    "        self.y3 = None\n",
    "        self.alpha = None\n",
    "    def forward(self, x):\n",
    "        y1 = self.fc1(x)\n",
    "        self.y2 = self.fc2(y1)\n",
    "        self.alpha = self.y2.sum()\n",
    "        self.y3 = self.fc3(self.y2)\n",
    "        self.y3.retain_grad()\n",
    "        return self.y3"
   ]
  },
  {
   "cell_type": "code",
   "execution_count": 3,
   "metadata": {
    "pycharm": {
     "name": "#%%\n"
    }
   },
   "outputs": [
    {
     "output_type": "stream",
     "name": "stdout",
     "text": [
      "----------- plaintext weight ---------------\ntensor([[ 1.1176, -1.3871],\n        [-0.4266, -0.8036],\n        [ 0.6014, -0.0750]])\ntensor([[ 0.0597, -0.0320, -0.1855],\n        [ 1.2048,  0.7775, -1.3583],\n        [ 0.7698, -0.8702,  1.0998]])\ntensor([[-0.9585, -1.2749, -1.3653],\n        [-1.4743,  0.4335, -0.3281]])\ny:  tensor([[ 0.4749, -0.3197]], grad_fn=<MmBackward>)\n----------- plaintext grad -----------------\ntensor([[-0.0165, -0.0248],\n        [-0.1109, -0.1664],\n        [ 0.1088,  0.1632]])\ntensor([[-0.2374, -0.4023,  0.1205],\n        [ 0.0623,  0.1056, -0.0316],\n        [-0.0584, -0.0990,  0.0297]])\ntensor([[ 4.8124e-04,  1.5515e-02, -6.1016e-03],\n        [ 1.5730e-02,  5.0711e-01, -1.9944e-01]])\n----------- ciphertext weight ---------------\ntensor([[ 0.2235, -0.2774],\n        [-0.0853, -0.1607],\n        [ 0.1203, -0.0150]])\ntensor([[ 0.1194, -0.0640, -0.3710],\n        [ 2.4095,  1.5549, -2.7166],\n        [ 1.5397, -1.7405,  2.1995]])\ntensor([[-1.9169, -2.5499, -2.7307],\n        [-2.9487,  0.8671, -0.6562]])\n----------- ciphertext grad ---------------\ntensor([[ 0.1441,  0.2162],\n        [-0.4268, -0.6402],\n        [ 0.3697,  0.5545]])\ntensor([[-0.0947, -0.1605,  0.0481],\n        [ 0.0135,  0.0228, -0.0068],\n        [-0.0317, -0.0538,  0.0161]])\ntensor([[ 0.0009,  0.0297, -0.0117],\n        [ 0.0058,  0.1870, -0.0736]])\nGet yc:  tensor([[ 0.3799, -0.2558]], grad_fn=<MmBackward>)\nGet yc from y:  tensor([[ 0.3799, -0.2558]], grad_fn=<MulBackward0>)\nLy derivative\ntensor([[-0.0251, -0.8197]], grad_fn=<SubBackward0>)\ntensor([[-0.0251, -0.8197]])\nLhaty derivative\ntensor([[-0.1201, -0.7558]], grad_fn=<SubBackward0>)\ntensor([[-0.1201, -0.7558]])\n"
     ]
    }
   ],
   "source": [
    "# setup gpu or cpu\n",
    "device = 'cuda' if torch.cuda.is_available() else 'cpu'\n",
    "\n",
    "r = (0.2, 0.4, 0.8)\n",
    "x = torch.tensor([[0.2, 0.3]], device=device)\n",
    "y_hat = torch.tensor([[0.5, 0.5]], device=device)\n",
    "\n",
    "net = CMlp(weight_random=True).to(device)\n",
    "print('----------- plaintext weight ---------------')\n",
    "for p in net.parameters():\n",
    "    print(p.data)\n",
    "y = net(x)\n",
    "print('y: ', y)\n",
    "criterion = nn.MSELoss()\n",
    "loss = criterion(y, y_hat)\n",
    "loss.backward(retain_graph=True)\n",
    "print('----------- plaintext grad -----------------')\n",
    "for p in net.parameters():\n",
    "    print(p.grad)\n",
    "w_gradlist = [p.grad for p in net.parameters()]\n",
    "print('----------- ciphertext weight ---------------')\n",
    "net_c = CMlp(r, weight_random=True).to(device)\n",
    "for p in net_c.parameters():\n",
    "    print(p.data)\n",
    "y_c = net_c(x)\n",
    "c_loss = criterion(y_c, y_hat)\n",
    "c_loss.backward(retain_graph=True)\n",
    "print('----------- ciphertext grad ---------------')\n",
    "for p in net_c.parameters():\n",
    "    print(p.grad)\n",
    "c_w_gradlist = [p.grad.detach().clone() for p in net_c.parameters()]\n",
    "\n",
    "print('Get yc: ', y_c)\n",
    "print('Get yc from y: ', y  * 0.8)\n",
    "print('Ly derivative')\n",
    "print(y - y_hat)\n",
    "print(y.grad)\n",
    "y_grad = y.grad.clone()\n",
    "print('Lhaty derivative')\n",
    "print(y_c - y_hat)\n",
    "print(y_c.grad)\n",
    "y_c_grad = y_c.grad"
   ]
  },
  {
   "cell_type": "markdown",
   "metadata": {
    "pycharm": {
     "name": "#%% md\n"
    }
   },
   "source": [
    "$ \\frac{\\partial \\widehat{L}}{\\partial \\widehat{W}^{(l)}} = ( \\frac{\\partial L}{\\partial y^{(L)}} + (r^L - 1) \\cdot y^{L}) \\frac{\\partial \\widehat{y}^{(L)}}{\\partial \\widehat{W}^{(l)}} $"
   ]
  },
  {
   "cell_type": "code",
   "execution_count": 4,
   "metadata": {},
   "outputs": [],
   "source": [
    "optim = torch.optim.Optimizer(net.parameters(), {})\n",
    "optim_c = torch.optim.Optimizer(net_c.parameters(), {})\n",
    "optim_c.zero_grad()"
   ]
  },
  {
   "cell_type": "code",
   "execution_count": 5,
   "metadata": {
    "pycharm": {
     "name": "#%%\n"
    }
   },
   "outputs": [
    {
     "output_type": "stream",
     "name": "stdout",
     "text": [
      "tensor([[-0.0950,  0.0639]], grad_fn=<MulBackward0>)\n"
     ]
    }
   ],
   "source": [
    "n3 =  torch.tensor([[.8, .8]], device=device)\n",
    "r_L = (n3 - 1) * y\n",
    "print(r_L)\n",
    "t = y_grad + r_L\n",
    "y_c.backward(t, retain_graph=True)"
   ]
  },
  {
   "cell_type": "markdown",
   "metadata": {
    "pycharm": {
     "name": "#%% md\n"
    }
   },
   "source": [
    "### get grad $\\frac{\\partial \\widehat{L}}{\\partial \\widehat{W}^{(l)}}$"
   ]
  },
  {
   "cell_type": "code",
   "execution_count": 6,
   "metadata": {
    "pycharm": {
     "name": "#%%\n"
    }
   },
   "outputs": [
    {
     "output_type": "stream",
     "name": "stdout",
     "text": [
      "tensor([[ 0.1441,  0.2162],\n        [-0.4268, -0.6402],\n        [ 0.3697,  0.5545]])\ntensor([[-0.0947, -0.1605,  0.0481],\n        [ 0.0135,  0.0228, -0.0068],\n        [-0.0317, -0.0538,  0.0161]])\ntensor([[ 0.0009,  0.0297, -0.0117],\n        [ 0.0058,  0.1870, -0.0736]])\n"
     ]
    }
   ],
   "source": [
    "for p in net_c.parameters():\n",
    "    print(p.grad)"
   ]
  },
  {
   "cell_type": "code",
   "execution_count": 7,
   "metadata": {
    "pycharm": {
     "name": "#%%\n"
    }
   },
   "outputs": [
    {
     "output_type": "stream",
     "name": "stdout",
     "text": [
      "tensor([[ 0.1441,  0.2162],\n        [-0.4268, -0.6402],\n        [ 0.3697,  0.5545]])\ntensor([[-0.0947, -0.1605,  0.0481],\n        [ 0.0135,  0.0228, -0.0068],\n        [-0.0317, -0.0538,  0.0161]])\ntensor([[ 0.0009,  0.0297, -0.0117],\n        [ 0.0058,  0.1870, -0.0736]])\n"
     ]
    }
   ],
   "source": [
    "print(*c_w_gradlist, sep='\\n')"
   ]
  },
  {
   "cell_type": "markdown",
   "metadata": {},
   "source": [
    "$ \\frac{\\partial \\widehat{L}}{\\partial \\widehat{W}^{(l)}} = \\frac{r^L}{R_l} \\frac{\\partial L}{\\partial W^{(l)}}+ (r^L - 1) \\cdot y^{L} \\frac{\\partial \\widehat{y}^{(L)}}{\\partial \\widehat{W}^{(l)}} $"
   ]
  },
  {
   "cell_type": "code",
   "execution_count": 8,
   "metadata": {
    "pycharm": {
     "name": "#%%\n"
    }
   },
   "outputs": [
    {
     "output_type": "stream",
     "name": "stdout",
     "text": [
      "[0.2, 2.0, 2.0]\n"
     ]
    }
   ],
   "source": [
    "print(net_c.noise) # noise for w_ij in each layer\n",
    "\n",
    "# left of addition\n",
    "l_tensor_list =[]\n",
    "for x, n in zip(w_gradlist, net_c.noise):\n",
    "    l_tensor_list.append(x.mul(1/n).mul(0.8))\n",
    "optim_c.zero_grad()\n",
    "y_c.backward(r_L, retain_graph=True)\n",
    "\n",
    "# right of addition\n",
    "r_tensor_list = [p.grad.detach().clone() for p in net_c.parameters()]"
   ]
  },
  {
   "cell_type": "markdown",
   "metadata": {
    "pycharm": {
     "name": "#%% md\n"
    }
   },
   "source": [
    "### restore ciphertext grad in left of the equation"
   ]
  },
  {
   "cell_type": "code",
   "execution_count": 9,
   "metadata": {
    "pycharm": {
     "name": "#%%\n"
    }
   },
   "outputs": [
    {
     "output_type": "stream",
     "name": "stdout",
     "text": [
      "tensor([[ 0.1441,  0.2162],\n        [-0.4268, -0.6402],\n        [ 0.3697,  0.5545]])\ntensor([[-0.0947, -0.1605,  0.0481],\n        [ 0.0135,  0.0228, -0.0068],\n        [-0.0317, -0.0538,  0.0161]])\ntensor([[ 0.0009,  0.0297, -0.0117],\n        [ 0.0058,  0.1870, -0.0736]])\n"
     ]
    }
   ],
   "source": [
    "for l, r in zip(l_tensor_list, r_tensor_list):\n",
    "    print(l + r)"
   ]
  }
 ],
 "metadata": {
  "kernelspec": {
   "name": "python375jvsc74a57bd01e47ec2281ab428d4ca22f0f74965e4cc9a389189477cc90a3919c72a06fb43f",
   "display_name": "Python 3.7.5 64-bit ('torch': conda)"
  },
  "language_info": {
   "codemirror_mode": {
    "name": "ipython",
    "version": 3
   },
   "file_extension": ".py",
   "mimetype": "text/x-python",
   "name": "python",
   "nbconvert_exporter": "python",
   "pygments_lexer": "ipython3",
   "version": "3.7.5"
  }
 },
 "nbformat": 4,
 "nbformat_minor": 1
}