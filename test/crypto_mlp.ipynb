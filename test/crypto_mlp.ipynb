{
 "cells": [
  {
   "cell_type": "code",
   "execution_count": 49,
   "metadata": {
    "collapsed": true
   },
   "outputs": [],
   "source": [
    "import torch\n",
    "import torch.nn as nn\n",
    "import numpy as np\n",
    "from numpy.random import default_rng\n",
    "\n",
    "def set_seed(seed=0):\n",
    "    seed = 42069  # set a random seed for reproducibility\n",
    "    torch.backends.cudnn.deterministic = True\n",
    "    torch.backends.cudnn.benchmark = False\n",
    "    np.random.seed(seed)\n",
    "    torch.manual_seed(seed)\n",
    "    if torch.cuda.is_available():\n",
    "        torch.cuda.manual_seed_all(seed)\n",
    "\n"
   ]
  },
  {
   "cell_type": "code",
   "execution_count": 50,
   "metadata": {},
   "outputs": [],
   "source": [
    "\r\n",
    "def init_weight():\r\n",
    "    # y0 dim: (1, 2)\r\n",
    "    w1 = np.array([[0.2, 0.3],\r\n",
    "                   [0.4, 0.2],\r\n",
    "                   [0.3, 0.4]], dtype='f')\r\n",
    "    # y1 dim: (1, 3)\r\n",
    "    w2 = np.array([[0.2, 0.3, 0.4],\r\n",
    "                   [0.4, 0.2, 0.3],\r\n",
    "                   [0.3, 0.4, 0.2]], dtype='f')\r\n",
    "    # y2 dim: (1, 3)\r\n",
    "    w3 = np.array([[0.2, 0.3, 0.4],\r\n",
    "                   [0.4, 0.2, 0.3]], dtype='f')\r\n",
    "    # y3 dim: (1, 2)\r\n",
    "    return w1, w2, w3\r\n",
    "\r\n",
    "\r\n",
    "class CMlp(nn.Module):\r\n",
    "\r\n",
    "    def __init__(self, encrypt=False):\r\n",
    "        super(CMlp, self).__init__()\r\n",
    "        w1, w2, w3 = init_weight()\r\n",
    "\r\n",
    "        self.fc1 = nn.Linear(2, 3, False)\r\n",
    "        self.fc1.weight.data = torch.from_numpy(w1)\r\n",
    "        self.relu1 = nn.ReLU()\r\n",
    "        self.fc2 = nn.Linear(3, 3, False)\r\n",
    "        self.fc2.weight.data = torch.from_numpy(w2)\r\n",
    "        self.relu2 = nn.ReLU()\r\n",
    "        self.fc3 = nn.Linear(3, 2, False)\r\n",
    "        self.fc3.weight.data = torch.from_numpy(w3)\r\n",
    "        if encrypt:\r\n",
    "            rng = default_rng(0)\r\n",
    "            self.r1 = np.absolute(rng.standard_normal((3, 1), dtype='f'))\r\n",
    "            self.r2 = np.absolute(rng.standard_normal((3, 1), dtype='f'))\r\n",
    "            self.r3 = np.absolute(rng.standard_normal((2, 1), dtype='f'))\r\n",
    "            self.fc1.weight.data = torch.from_numpy(w1 * self.r1)\r\n",
    "            self.fc2.weight.data = torch.from_numpy(w2 * self.r2 / self.r1.transpose())\r\n",
    "            self.fc3.weight.data = torch.from_numpy(w3 / self.r2.transpose() + self.r3)\r\n",
    "        self.y2 = None\r\n",
    "        self.y3 = None\r\n",
    "        self.alpha = None\r\n",
    "    def forward(self, x):\r\n",
    "        y1 = self.fc1(x)\r\n",
    "        self.y2 = self.fc2(self.relu1(y1))\r\n",
    "        self.alpha = self.y2.sum()\r\n",
    "        self.y3 = self.fc3(self.relu2(self.y2))\r\n",
    "        self.y3.retain_grad()\r\n",
    "        return self.y3"
   ]
  },
  {
   "cell_type": "code",
   "execution_count": 51,
   "metadata": {
    "pycharm": {
     "name": "#%%\n"
    }
   },
   "outputs": [
    {
     "name": "stdout",
     "output_type": "stream",
     "text": [
      "----------- plaintext weight ---------------\n",
      "tensor([[0.2000, 0.3000],\n",
      "        [0.4000, 0.2000],\n",
      "        [0.3000, 0.4000]])\n",
      "tensor([[0.2000, 0.3000, 0.4000],\n",
      "        [0.4000, 0.2000, 0.3000],\n",
      "        [0.3000, 0.4000, 0.2000]])\n",
      "tensor([[0.2000, 0.3000, 0.4000],\n",
      "        [0.4000, 0.2000, 0.3000]])\n",
      "y:  tensor([[0.1206, 0.1221]], grad_fn=<MmBackward>)\n",
      "----------- plaintext grad -----------------\n",
      "tensor([[-0.0401, -0.0602],\n",
      "        [-0.0424, -0.0636],\n",
      "        [-0.0401, -0.0602]])\n",
      "tensor([[-0.0295, -0.0318, -0.0409],\n",
      "        [-0.0246, -0.0265, -0.0341],\n",
      "        [-0.0345, -0.0371, -0.0477]])\n",
      "tensor([[-0.0531, -0.0508, -0.0497],\n",
      "        [-0.0529, -0.0506, -0.0495]])\n",
      "----------- ciphertext weight ---------------\n",
      "tensor([[0.2235, 0.3353],\n",
      "        [0.5548, 0.2774],\n",
      "        [0.1280, 0.1706]])\n",
      "tensor([[0.1438, 0.1738, 0.7535],\n",
      "        [0.2153, 0.0867, 0.4230],\n",
      "        [0.0201, 0.0216, 0.0352]])\n",
      "tensor([[0.3086, 0.5585, 5.3935],\n",
      "        [0.5298, 0.3645, 4.0324]])\n",
      "----------- ciphertext grad ---------------\n",
      "tensor([[-0.0376, -0.0564],\n",
      "        [-0.0317, -0.0476],\n",
      "        [-0.1000, -0.1500]])\n",
      "tensor([[-0.0451, -0.0602, -0.0238],\n",
      "        [-0.0495, -0.0661, -0.0261],\n",
      "        [-0.5054, -0.6755, -0.2671]])\n",
      "tensor([[-0.0413, -0.0296, -0.0036],\n",
      "        [-0.0418, -0.0299, -0.0036]])\n",
      "Get yc:  tensor([[0.1327, 0.1286]], grad_fn=<MmBackward>)\n",
      "Get yc from y:  tensor([[0.1327, 0.1286]], grad_fn=<AddBackward0>)\n",
      "Ly derivative\n",
      "tensor([[-0.3794, -0.3779]], grad_fn=<SubBackward0>)\n",
      "tensor([[-0.3794, -0.3779]])\n",
      "Lhaty derivative\n",
      "tensor([[-0.3673, -0.3714]], grad_fn=<SubBackward0>)\n",
      "tensor([[-0.3673, -0.3714]])\n"
     ]
    }
   ],
   "source": [
    "# setup gpu or cpu\r\n",
    "# device = 'cuda' if torch.cuda.is_available() else 'cpu'\r\n",
    "device = 'cpu'\r\n",
    "\r\n",
    "r = (0.2, 0.4, 0.8)\r\n",
    "x = torch.tensor([[0.2, 0.3]], device=device)\r\n",
    "y_hat = torch.tensor([[0.5, 0.5]], device=device)\r\n",
    "\r\n",
    "net = CMlp().to(device)\r\n",
    "print('----------- plaintext weight ---------------')\r\n",
    "for p in net.parameters():\r\n",
    "    print(p.data)\r\n",
    "y = net(x)\r\n",
    "print('y: ', y)\r\n",
    "criterion = nn.MSELoss()\r\n",
    "loss = criterion(y, y_hat)\r\n",
    "loss.backward(retain_graph=True)\r\n",
    "print('----------- plaintext grad -----------------')\r\n",
    "for p in net.parameters():\r\n",
    "    print(p.grad)\r\n",
    "w_gradlist = [p.grad for p in net.parameters()]\r\n",
    "print('----------- ciphertext weight ---------------')\r\n",
    "net_c = CMlp(encrypt=True).to(device)\r\n",
    "for p in net_c.parameters():\r\n",
    "    print(p.data)\r\n",
    "y_c = net_c(x)\r\n",
    "c_loss = criterion(y_c, y_hat)\r\n",
    "c_loss.backward(retain_graph=True)\r\n",
    "print('----------- ciphertext grad ---------------')\r\n",
    "for p in net_c.parameters():\r\n",
    "    print(p.grad)\r\n",
    "c_w_gradlist = [p.grad for p in net_c.parameters()]\r\n",
    "\r\n",
    "r_a = torch.from_numpy(net_c.r3).to(device)\r\n",
    "print('Get yc: ', y_c)\r\n",
    "print('Get yc from y: ', y + net_c.alpha * r_a.t())\r\n",
    "print('Ly derivative')\r\n",
    "print(y - y_hat)\r\n",
    "print(y.grad)\r\n",
    "print('Lhaty derivative')\r\n",
    "print(y_c - y_hat)\r\n",
    "print(y_c.grad)\r\n",
    "y_c_grad = y_c.grad"
   ]
  },
  {
   "cell_type": "markdown",
   "metadata": {
    "pycharm": {
     "name": "#%% md\n"
    }
   },
   "source": [
    "$ \\frac{\\partial \\widehat{L}}{\\partial \\widehat{W}^{(l)}}  $"
   ]
  },
  {
   "cell_type": "code",
   "execution_count": 52,
   "metadata": {},
   "outputs": [],
   "source": [
    "optim = torch.optim.Optimizer(net.parameters(), {})\n",
    "optim_c = torch.optim.Optimizer(net_c.parameters(), {})"
   ]
  },
  {
   "cell_type": "markdown",
   "metadata": {},
   "source": [
    "### set grad to zero"
   ]
  },
  {
   "cell_type": "code",
   "execution_count": 53,
   "metadata": {},
   "outputs": [
    {
     "name": "stdout",
     "output_type": "stream",
     "text": [
      "tensor([[-0.0376, -0.0564],\n",
      "        [-0.0317, -0.0476],\n",
      "        [-0.1000, -0.1500]])\n",
      "tensor([[-0.0451, -0.0602, -0.0238],\n",
      "        [-0.0495, -0.0661, -0.0261],\n",
      "        [-0.5054, -0.6755, -0.2671]])\n",
      "tensor([[-0.0413, -0.0296, -0.0036],\n",
      "        [-0.0418, -0.0299, -0.0036]])\n",
      "tensor([[0., 0.],\n",
      "        [0., 0.],\n",
      "        [0., 0.]])\n",
      "tensor([[0., 0., 0.],\n",
      "        [0., 0., 0.],\n",
      "        [0., 0., 0.]])\n",
      "tensor([[0., 0., 0.],\n",
      "        [0., 0., 0.]])\n"
     ]
    }
   ],
   "source": [
    "for p in net_c.parameters():\n",
    "    print(p.grad)\n",
    "optim_c.zero_grad()\n",
    "for p in net_c.parameters():\n",
    "    print(p.grad)"
   ]
  },
  {
   "cell_type": "markdown",
   "metadata": {},
   "source": [
    "## get $\\frac{\\partial \\alpha}{\\partial \\widehat{w}^{(l)}}$"
   ]
  },
  {
   "cell_type": "code",
   "execution_count": 54,
   "metadata": {},
   "outputs": [
    {
     "name": "stdout",
     "output_type": "stream",
     "text": [
      "tensor([[0.0758, 0.1138],\n",
      "        [0.0564, 0.0846],\n",
      "        [0.2423, 0.3635]])\n",
      "tensor([[0.1453, 0.1942, 0.0768],\n",
      "        [0.1453, 0.1942, 0.0768],\n",
      "        [0.1453, 0.1942, 0.0768]])\n",
      "tensor([[0., 0., 0.],\n",
      "        [0., 0., 0.]])\n"
     ]
    }
   ],
   "source": [
    "net_c.alpha.backward(retain_graph=True)\n",
    "alpha_gradlist = [p.grad.detach().clone() for p in net_c.parameters()]\n",
    "for p in net_c.parameters():\n",
    "    print(p.grad)"
   ]
  },
  {
   "cell_type": "markdown",
   "metadata": {},
   "source": [
    "### set grad to zero and get $\\mathbf{r}^t \\frac{\\partial \\widehat{y}^{L}}{\\partial \\widehat{w}^{(l)}}$"
   ]
  },
  {
   "cell_type": "code",
   "execution_count": 55,
   "metadata": {},
   "outputs": [
    {
     "name": "stdout",
     "output_type": "stream",
     "text": [
      "tensor([[0., 0.],\n",
      "        [0., 0.],\n",
      "        [0., 0.]])\n",
      "tensor([[0., 0., 0.],\n",
      "        [0., 0., 0.],\n",
      "        [0., 0., 0.]])\n",
      "tensor([[0., 0., 0.],\n",
      "        [0., 0., 0.]])\n"
     ]
    }
   ],
   "source": [
    "optim_c.zero_grad()\r\n",
    "r = r_a.t()\r\n",
    "for p in net_c.parameters():\r\n",
    "    print(p.grad)\r\n",
    "y_c.backward(r, retain_graph=True)"
   ]
  },
  {
   "cell_type": "code",
   "execution_count": 56,
   "metadata": {},
   "outputs": [],
   "source": [
    "c_yw_gradlist = [p.grad for p in net_c.parameters()]"
   ]
  },
  {
   "cell_type": "code",
   "execution_count": 57,
   "metadata": {},
   "outputs": [
    {
     "name": "stdout",
     "output_type": "stream",
     "text": [
      "tensor([[0.0067, 0.0048, 0.0006],\n",
      "        [0.0036, 0.0026, 0.0003]])\n"
     ]
    }
   ],
   "source": [
    "print(c_w_gradlist[2])"
   ]
  },
  {
   "cell_type": "code",
   "execution_count": 58,
   "metadata": {},
   "outputs": [
    {
     "name": "stdout",
     "output_type": "stream",
     "text": [
      "tensor([[-0.0531, -0.0508, -0.0497],\n",
      "        [-0.0529, -0.0506, -0.0495]])\n",
      "tensor([[0.0067, 0.0048, 0.0006],\n",
      "        [0.0036, 0.0026, 0.0003]])\n"
     ]
    }
   ],
   "source": [
    "print(w_gradlist[2])\n",
    "print(c_yw_gradlist[2])"
   ]
  },
  {
   "cell_type": "markdown",
   "metadata": {},
   "source": [
    "Compute $\\frac{\\partial \\widehat{L}}{\\partial \\widehat{W}}$\r\n",
    "\r\n",
    "\\begin{equation}\r\n",
    "\\frac{\\partial \\widehat{L}}{\\partial \\widehat{W}} = \\frac{1}{R^{(l)}} \\circ \\frac{\\partial L}{\\partial W} + r^T \\cdot \\alpha \\frac{\\partial \\widehat{y}^{(L)}}{\\partial \\widehat{W}} + r^T \\cdot (\\frac{ \\partial \\widehat{L}}{\\partial \\widehat{y}^{(L)}})^{T} \\frac{\\partial \\alpha}{\\partial \\widehat{W}} - r^T r \\alpha \\frac{\\partial \\alpha}{\\partial \\widehat{W}}\r\n",
    "\\end{equation}\r\n"
   ]
  },
  {
   "cell_type": "markdown",
   "metadata": {},
   "source": [
    "## Layer3 c_w3 grad with simple computing\r\n",
    "\r\n",
    "\\begin{equation}\r\n",
    "\\frac{\\partial \\widehat{L}}{\\partial \\widehat{W}} = \\frac{1}{R^{(l)}} \\circ \\frac{\\partial L}{\\partial W} + r^T \\cdot \\alpha \\frac{\\partial \\widehat{y}^{(L)}}{\\partial \\widehat{W}}\r\n",
    "\\end{equation}\r\n"
   ]
  },
  {
   "cell_type": "code",
   "execution_count": 59,
   "metadata": {},
   "outputs": [
    {
     "name": "stdout",
     "output_type": "stream",
     "text": [
      "tensor([[-0.0413, -0.0296, -0.0036],\n",
      "        [-0.0418, -0.0299, -0.0036]], grad_fn=<AddBackward0>)\n"
     ]
    }
   ],
   "source": [
    "print(w_gradlist[2] * net_c.r2.transpose() + c_yw_gradlist[2] * net_c.alpha)"
   ]
  },
  {
   "cell_type": "code",
   "execution_count": 60,
   "metadata": {},
   "outputs": [
    {
     "name": "stdout",
     "output_type": "stream",
     "text": [
      "tensor([[-0.3673, -0.3714]])\n"
     ]
    }
   ],
   "source": [
    "print(y_c_grad.reshape(1, -1))\n",
    "t = r.matmul(y_c_grad.reshape(1, -1).t())"
   ]
  },
  {
   "cell_type": "code",
   "execution_count": 61,
   "metadata": {},
   "outputs": [
    {
     "name": "stdout",
     "output_type": "stream",
     "text": [
      "tensor([[-0.0295, -0.0318, -0.0409],\n",
      "        [-0.0246, -0.0265, -0.0341],\n",
      "        [-0.0345, -0.0371, -0.0477]])\n",
      "tensor([[0.1453, 0.1942, 0.0768],\n",
      "        [0.1453, 0.1942, 0.0768],\n",
      "        [0.1453, 0.1942, 0.0768]])\n"
     ]
    }
   ],
   "source": [
    "print(w_gradlist[1])\n",
    "print(alpha_gradlist[1])"
   ]
  },
  {
   "cell_type": "markdown",
   "metadata": {},
   "source": [
    "## Layer2 c_w2 grad"
   ]
  },
  {
   "cell_type": "code",
   "execution_count": 62,
   "metadata": {},
   "outputs": [
    {
     "name": "stdout",
     "output_type": "stream",
     "text": [
      "tensor([[-0.0451, -0.0602, -0.0238],\n",
      "        [-0.0495, -0.0661, -0.0261],\n",
      "        [-0.5054, -0.6755, -0.2671]], grad_fn=<SubBackward0>)\n"
     ]
    }
   ],
   "source": [
    "print(w_gradlist[1] / net_c.r2 * net_c.r1.transpose() + c_yw_gradlist[1] * net_c.alpha + alpha_gradlist[1] * t - r.matmul(r.t()) * net_c.alpha * alpha_gradlist[1])"
   ]
  },
  {
   "cell_type": "markdown",
   "metadata": {},
   "source": [
    "## Layer1 c_w1 grad"
   ]
  },
  {
   "cell_type": "code",
   "execution_count": 63,
   "metadata": {},
   "outputs": [
    {
     "name": "stdout",
     "output_type": "stream",
     "text": [
      "tensor([[-0.0376, -0.0564],\n",
      "        [-0.0317, -0.0476],\n",
      "        [-0.1000, -0.1500]], grad_fn=<SubBackward0>)\n"
     ]
    }
   ],
   "source": [
    "print(w_gradlist[0] / net_c.r1 + c_yw_gradlist[0] * net_c.alpha + alpha_gradlist[0] * t - r.matmul(r.t()) * net_c.alpha * alpha_gradlist[0])"
   ]
  }
 ],
 "metadata": {
  "interpreter": {
   "hash": "14932b6c5230a6c2f6762f0a3e8ea63b9cdee010260e4e00d4808ef018d93584"
  },
  "kernelspec": {
   "display_name": "Python 3.8.10 64-bit ('PyTorchTest': conda)",
   "name": "python3"
  },
  "language_info": {
   "codemirror_mode": {
    "name": "ipython",
    "version": 3
   },
   "file_extension": ".py",
   "mimetype": "text/x-python",
   "name": "python",
   "nbconvert_exporter": "python",
   "pygments_lexer": "ipython3",
   "version": "3.8.10"
  }
 },
 "nbformat": 4,
 "nbformat_minor": 1
}