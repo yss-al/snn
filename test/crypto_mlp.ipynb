{
 "cells": [
  {
   "cell_type": "code",
   "execution_count": 1,
   "metadata": {
    "collapsed": true
   },
   "outputs": [],
   "source": [
    "import torch\n",
    "import torch.nn as nn\n",
    "import numpy as np\n",
    "\n",
    "\n",
    "def set_seed(seed=0):\n",
    "    seed = 42069  # set a random seed for reproducibility\n",
    "    torch.backends.cudnn.deterministic = True\n",
    "    torch.backends.cudnn.benchmark = False\n",
    "    np.random.seed(seed)\n",
    "    torch.manual_seed(seed)\n",
    "    if torch.cuda.is_available():\n",
    "        torch.cuda.manual_seed_all(seed)\n",
    "\n"
   ]
  },
  {
   "cell_type": "code",
   "execution_count": 2,
   "metadata": {},
   "outputs": [],
   "source": [
    "\n",
    "def init_weight():\n",
    "    # y0 dim: (1, 2)\n",
    "    w1 = np.array([[0.2, 0.3],\n",
    "                   [0.4, 0.2],\n",
    "                   [0.3, 0.4]], dtype='f')\n",
    "    # y1 dim: (1, 3)\n",
    "    w2 = np.array([[0.2, 0.3, 0.4],\n",
    "                   [0.4, 0.2, 0.3],\n",
    "                   [0.3, 0.4, 0.2]], dtype='f')\n",
    "    # y2 dim: (1, 3)\n",
    "    w3 = np.array([[0.2, 0.3, 0.4],\n",
    "                   [0.4, 0.2, 0.3]], dtype='f')\n",
    "    # y3 dim: (1, 2)\n",
    "    return w1, w2, w3\n",
    "\n",
    "\n",
    "class CMlp(nn.Module):\n",
    "\n",
    "    def __init__(self, r=(1., 1., 0.)):\n",
    "        super(CMlp, self).__init__()\n",
    "        w1, w2, w3 = init_weight()\n",
    "        self.noise = [r[0], r[1] / r[0], 1 / r[1]]\n",
    "\n",
    "        self.fc1 = nn.Linear(2, 3, False)\n",
    "        self.fc1.weight.data = torch.from_numpy(w1)\n",
    "        self.fc1.weight.data.mul_(self.noise[0])\n",
    "\n",
    "        self.fc2 = nn.Linear(3, 3, False)\n",
    "        self.fc2.weight.data = torch.from_numpy(w2)\n",
    "        self.fc2.weight.data.mul_(self.noise[1])\n",
    "\n",
    "        self.fc3 = nn.Linear(3, 2, False)\n",
    "        self.fc3.weight.data = torch.from_numpy(w3)\n",
    "        self.fc3.weight.data.mul_(self.noise[2])\n",
    "        self.fc3.weight.data.add_(r[2])\n",
    "        self.y2 = None\n",
    "        self.y3 = None\n",
    "        self.alpha = None\n",
    "    def forward(self, x):\n",
    "        y1 = self.fc1(x)\n",
    "        self.y2 = self.fc2(y1)\n",
    "        self.alpha = self.y2.sum()\n",
    "        self.y3 = self.fc3(self.y2)\n",
    "        self.y3.retain_grad()\n",
    "        return self.y3"
   ]
  },
  {
   "cell_type": "code",
   "execution_count": 3,
   "metadata": {
    "pycharm": {
     "name": "#%%\n"
    }
   },
   "outputs": [
    {
     "output_type": "stream",
     "name": "stdout",
     "text": [
      "----------- plaintext weight ---------------\n",
      "tensor([[0.2000, 0.3000],\n",
      "        [0.4000, 0.2000],\n",
      "        [0.3000, 0.4000]], device='cuda:0')\n",
      "tensor([[0.2000, 0.3000, 0.4000],\n",
      "        [0.4000, 0.2000, 0.3000],\n",
      "        [0.3000, 0.4000, 0.2000]], device='cuda:0')\n",
      "tensor([[0.2000, 0.3000, 0.4000],\n",
      "        [0.4000, 0.2000, 0.3000]], device='cuda:0')\n",
      "y:  tensor([[0.1206, 0.1221]], device='cuda:0', grad_fn=<MmBackward>)\n",
      "----------- plaintext grad -----------------\n",
      "tensor([[-0.0401, -0.0602],\n",
      "        [-0.0424, -0.0636],\n",
      "        [-0.0401, -0.0602]], device='cuda:0')\n",
      "tensor([[-0.0295, -0.0318, -0.0409],\n",
      "        [-0.0246, -0.0265, -0.0341],\n",
      "        [-0.0345, -0.0371, -0.0477]], device='cuda:0')\n",
      "tensor([[-0.0531, -0.0508, -0.0497],\n",
      "        [-0.0529, -0.0506, -0.0495]], device='cuda:0')\n",
      "----------- ciphertext weight ---------------\n",
      "tensor([[0.0400, 0.0600],\n",
      "        [0.0800, 0.0400],\n",
      "        [0.0600, 0.0800]], device='cuda:0')\n",
      "tensor([[0.4000, 0.6000, 0.8000],\n",
      "        [0.8000, 0.4000, 0.6000],\n",
      "        [0.6000, 0.8000, 0.4000]], device='cuda:0')\n",
      "tensor([[1.3000, 1.5500, 1.8000],\n",
      "        [1.8000, 1.3000, 1.5500]], device='cuda:0')\n",
      "----------- ciphertext grad ---------------\n",
      "tensor([[-0.2755, -0.4132],\n",
      "        [-0.2829, -0.4244],\n",
      "        [-0.2754, -0.4131]], device='cuda:0')\n",
      "tensor([[-0.0201, -0.0216, -0.0278],\n",
      "        [-0.0185, -0.0199, -0.0256],\n",
      "        [-0.0217, -0.0234, -0.0300]], device='cuda:0')\n",
      "tensor([[-0.0140, -0.0134, -0.0131],\n",
      "        [-0.0139, -0.0133, -0.0130]], device='cuda:0')\n",
      "Get yc:  tensor([[0.2502, 0.2517]], device='cuda:0', grad_fn=<MmBackward>)\n",
      "Get yc from y:  tensor([[0.2502, 0.2517]], device='cuda:0', grad_fn=<AddBackward0>)\n",
      "Ly derivative\n",
      "tensor([[-0.3794, -0.3779]], device='cuda:0', grad_fn=<SubBackward0>)\n",
      "tensor([[-0.3794, -0.3779]], device='cuda:0')\n",
      "Lhaty derivative\n",
      "tensor([[-0.2498, -0.2483]], device='cuda:0', grad_fn=<SubBackward0>)\n",
      "tensor([[-0.2498, -0.2483]], device='cuda:0')\n"
     ]
    }
   ],
   "source": [
    "# setup gpu or cpu\n",
    "device = 'cuda' if torch.cuda.is_available() else 'cpu'\n",
    "\n",
    "r = (0.2, 0.4, 0.8)\n",
    "x = torch.tensor([[0.2, 0.3]], device=device)\n",
    "y_hat = torch.tensor([[0.5, 0.5]], device=device)\n",
    "\n",
    "net = CMlp().to(device)\n",
    "print('----------- plaintext weight ---------------')\n",
    "for p in net.parameters():\n",
    "    print(p.data)\n",
    "y = net(x)\n",
    "print('y: ', y)\n",
    "criterion = nn.MSELoss()\n",
    "loss = criterion(y, y_hat)\n",
    "loss.backward(retain_graph=True)\n",
    "print('----------- plaintext grad -----------------')\n",
    "for p in net.parameters():\n",
    "    print(p.grad)\n",
    "w_gradlist = [p.grad for p in net.parameters()]\n",
    "print('----------- ciphertext weight ---------------')\n",
    "net_c = CMlp(r).to(device)\n",
    "for p in net_c.parameters():\n",
    "    print(p.data)\n",
    "y_c = net_c(x)\n",
    "c_loss = criterion(y_c, y_hat)\n",
    "c_loss.backward(retain_graph=True)\n",
    "print('----------- ciphertext grad ---------------')\n",
    "for p in net_c.parameters():\n",
    "    print(p.grad)\n",
    "c_w_gradlist = [p.grad for p in net_c.parameters()]\n",
    "\n",
    "print('Get yc: ', y_c)\n",
    "print('Get yc from y: ', y + net_c.alpha * 0.8)\n",
    "print('Ly derivative')\n",
    "print(y - y_hat)\n",
    "print(y.grad)\n",
    "print('Lhaty derivative')\n",
    "print(y_c - y_hat)\n",
    "print(y_c.grad)\n",
    "y_c_grad = y_c.grad"
   ]
  },
  {
   "source": [
    "$ \\frac{\\partial \\widehat{L}}{\\partial \\widehat{W}^{(l)}}  $"
   ],
   "cell_type": "markdown",
   "metadata": {
    "pycharm": {
     "name": "#%%\n"
    }
   }
  },
  {
   "cell_type": "code",
   "execution_count": 4,
   "metadata": {},
   "outputs": [],
   "source": [
    "optim = torch.optim.Optimizer(net.parameters(), {})\n",
    "optim_c = torch.optim.Optimizer(net_c.parameters(), {})"
   ]
  },
  {
   "source": [
    "### set grad to zero"
   ],
   "cell_type": "markdown",
   "metadata": {}
  },
  {
   "cell_type": "code",
   "execution_count": 5,
   "metadata": {},
   "outputs": [
    {
     "output_type": "stream",
     "name": "stdout",
     "text": [
      "tensor([[-0.2755, -0.4132],\n        [-0.2829, -0.4244],\n        [-0.2754, -0.4131]], device='cuda:0')\ntensor([[-0.0201, -0.0216, -0.0278],\n        [-0.0185, -0.0199, -0.0256],\n        [-0.0217, -0.0234, -0.0300]], device='cuda:0')\ntensor([[-0.0140, -0.0134, -0.0131],\n        [-0.0139, -0.0133, -0.0130]], device='cuda:0')\ntensor([[0., 0.],\n        [0., 0.],\n        [0., 0.]], device='cuda:0')\ntensor([[0., 0., 0.],\n        [0., 0., 0.],\n        [0., 0., 0.]], device='cuda:0')\ntensor([[0., 0., 0.],\n        [0., 0., 0.]], device='cuda:0')\n"
     ]
    }
   ],
   "source": [
    "for p in net_c.parameters():\n",
    "    print(p.grad)\n",
    "optim_c.zero_grad()\n",
    "for p in net_c.parameters():\n",
    "    print(p.grad)"
   ]
  },
  {
   "source": [
    "## get $\\frac{\\partial \\alpha}{\\partial \\widehat{w}^{(l)}}$"
   ],
   "cell_type": "markdown",
   "metadata": {}
  },
  {
   "cell_type": "code",
   "execution_count": 6,
   "metadata": {},
   "outputs": [
    {
     "output_type": "stream",
     "name": "stdout",
     "text": [
      "tensor([[0.3600, 0.5400],\n        [0.3600, 0.5400],\n        [0.3600, 0.5400]], device='cuda:0')\ntensor([[0.0260, 0.0280, 0.0360],\n        [0.0260, 0.0280, 0.0360],\n        [0.0260, 0.0280, 0.0360]], device='cuda:0')\ntensor([[0., 0., 0.],\n        [0., 0., 0.]], device='cuda:0')\n"
     ]
    }
   ],
   "source": [
    "net_c.alpha.backward(retain_graph=True)\n",
    "alpha_gradlist = [p.grad.detach().clone() for p in net_c.parameters()]\n",
    "for p in net_c.parameters():\n",
    "    print(p.grad)"
   ]
  },
  {
   "source": [
    "### set grad to zero and get $\\textbf{r}^t \\frac{\\partial \\widehat{y}^{L}}{\\partial \\widehat{w}^{(l)}}$"
   ],
   "cell_type": "markdown",
   "metadata": {}
  },
  {
   "cell_type": "code",
   "execution_count": 7,
   "metadata": {},
   "outputs": [
    {
     "output_type": "stream",
     "name": "stdout",
     "text": [
      "tensor([[0., 0.],\n        [0., 0.],\n        [0., 0.]], device='cuda:0')\ntensor([[0., 0., 0.],\n        [0., 0., 0.],\n        [0., 0., 0.]], device='cuda:0')\ntensor([[0., 0., 0.],\n        [0., 0., 0.]], device='cuda:0')\n"
     ]
    }
   ],
   "source": [
    "optim_c.zero_grad()\n",
    "r = torch.tensor([[0.8, 0.8]], device=device)\n",
    "for p in net_c.parameters():\n",
    "    print(p.grad)\n",
    "y_c.backward(r, retain_graph=True)"
   ]
  },
  {
   "cell_type": "code",
   "execution_count": 8,
   "metadata": {},
   "outputs": [],
   "source": [
    "c_yw_gradlist = [p.grad for p in net_c.parameters()]"
   ]
  },
  {
   "cell_type": "code",
   "execution_count": 9,
   "metadata": {},
   "outputs": [
    {
     "output_type": "stream",
     "name": "stdout",
     "text": [
      "tensor([[0.0448, 0.0429, 0.0419],\n        [0.0448, 0.0429, 0.0419]], device='cuda:0')\n"
     ]
    }
   ],
   "source": [
    "print(c_w_gradlist[2])"
   ]
  },
  {
   "cell_type": "code",
   "execution_count": 10,
   "metadata": {},
   "outputs": [
    {
     "output_type": "stream",
     "name": "stdout",
     "text": [
      "tensor([[-0.0531, -0.0508, -0.0497],\n        [-0.0529, -0.0506, -0.0495]], device='cuda:0')\ntensor([[0.0448, 0.0429, 0.0419],\n        [0.0448, 0.0429, 0.0419]], device='cuda:0')\n"
     ]
    }
   ],
   "source": [
    "print(w_gradlist[2])\n",
    "print(c_yw_gradlist[2])"
   ]
  },
  {
   "source": [
    "Compute $\\frac{\\partial \\widehat{L}}{\\partial \\widehat{W}}$\n",
    "$$\n",
    "\\frac{\\partial \\widehat{L}}{\\partial \\widehat{W}} = \\frac{1}{R^{(l)}} \\circ \\frac{\\partial L}{\\partial W} + r^T \\cdot \\alpha \\frac{\\partial \\widehat{y}^{(L)}}{\\partial \\widehat{W}} + r^T \\cdot (\\frac{ \\partial \\widehat{L}}{\\partial \\widehat{y}^{(L)}})^{T} \\frac{\\partial \\alpha}{\\partial \\widehat{W}} - r^T r \\alpha \\frac{\\partial \\alpha}{\\partial \\widehat{W}}\n",
    "$$"
   ],
   "cell_type": "markdown",
   "metadata": {}
  },
  {
   "source": [
    "## Layer3 c_w3 grad with simple computing\n",
    "\n",
    "$$\n",
    "\\frac{\\partial \\widehat{L}}{\\partial \\widehat{W}} = \\frac{1}{R^{(l)}} \\circ \\frac{\\partial L}{\\partial W} + r^T \\cdot \\alpha \\frac{\\partial \\widehat{y}^{(L)}}{\\partial \\widehat{W}}\n",
    "$$"
   ],
   "cell_type": "markdown",
   "metadata": {}
  },
  {
   "cell_type": "code",
   "execution_count": 11,
   "metadata": {},
   "outputs": [
    {
     "output_type": "stream",
     "name": "stdout",
     "text": [
      "tensor([[-0.0140, -0.0134, -0.0131],\n        [-0.0139, -0.0133, -0.0130]], device='cuda:0', grad_fn=<AddBackward0>)\n"
     ]
    }
   ],
   "source": [
    "print(w_gradlist[2] * 0.4 + c_yw_gradlist[2] * net_c.alpha)"
   ]
  },
  {
   "cell_type": "code",
   "execution_count": 12,
   "metadata": {},
   "outputs": [
    {
     "output_type": "stream",
     "name": "stdout",
     "text": [
      "tensor([[-0.2498, -0.2483]], device='cuda:0')\n"
     ]
    }
   ],
   "source": [
    "print(y_c_grad.reshape(1, -1))\n",
    "t = r.matmul(y_c_grad.reshape(1, -1).t())"
   ]
  },
  {
   "source": [],
   "cell_type": "markdown",
   "metadata": {}
  },
  {
   "cell_type": "code",
   "execution_count": 13,
   "metadata": {},
   "outputs": [
    {
     "output_type": "stream",
     "name": "stdout",
     "text": [
      "tensor([[-0.0295, -0.0318, -0.0409],\n        [-0.0246, -0.0265, -0.0341],\n        [-0.0345, -0.0371, -0.0477]], device='cuda:0')\ntensor([[0.0260, 0.0280, 0.0360],\n        [0.0260, 0.0280, 0.0360],\n        [0.0260, 0.0280, 0.0360]], device='cuda:0')\n"
     ]
    }
   ],
   "source": [
    "print(w_gradlist[1])\n",
    "print(alpha_gradlist[1])"
   ]
  },
  {
   "source": [
    "## Layer2 c_w2 grad"
   ],
   "cell_type": "markdown",
   "metadata": {}
  },
  {
   "cell_type": "code",
   "execution_count": 14,
   "metadata": {},
   "outputs": [
    {
     "output_type": "stream",
     "name": "stdout",
     "text": [
      "tensor([[-0.0201, -0.0216, -0.0278],\n        [-0.0185, -0.0199, -0.0256],\n        [-0.0217, -0.0234, -0.0300]], device='cuda:0', grad_fn=<SubBackward0>)\n"
     ]
    }
   ],
   "source": [
    "print(w_gradlist[1] * 0.5 + c_yw_gradlist[1] * net_c.alpha + alpha_gradlist[1] * t - r.matmul(r.t()) * net_c.alpha * alpha_gradlist[1])"
   ]
  },
  {
   "source": [
    "## Layer1 c_w1 grad"
   ],
   "cell_type": "markdown",
   "metadata": {}
  },
  {
   "cell_type": "code",
   "execution_count": 15,
   "metadata": {},
   "outputs": [
    {
     "output_type": "stream",
     "name": "stdout",
     "text": [
      "tensor([[-0.2755, -0.4132],\n        [-0.2829, -0.4244],\n        [-0.2754, -0.4131]], device='cuda:0', grad_fn=<SubBackward0>)\n"
     ]
    }
   ],
   "source": [
    "print(w_gradlist[0] * 5 + c_yw_gradlist[0] * net_c.alpha + alpha_gradlist[0] * t - r.matmul(r.t()) * net_c.alpha * alpha_gradlist[0])"
   ]
  }
 ],
 "metadata": {
  "kernelspec": {
   "name": "python388jvsc74a57bd00a1f3ca178433f031565ce90864009b3351d38149d8ec3f4e1cc6171ba567966",
   "display_name": "Python 3.8.8 64-bit ('TorchTutorial': conda)"
  },
  "language_info": {
   "codemirror_mode": {
    "name": "ipython",
    "version": 3
   },
   "file_extension": ".py",
   "mimetype": "text/x-python",
   "name": "python",
   "nbconvert_exporter": "python",
   "pygments_lexer": "ipython3",
   "version": "3.8.8"
  }
 },
 "nbformat": 4,
 "nbformat_minor": 1
}